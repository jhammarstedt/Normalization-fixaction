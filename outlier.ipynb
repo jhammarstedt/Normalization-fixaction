{
 "cells": [
  {
   "cell_type": "markdown",
   "metadata": {},
   "source": [
    "# Script to mesure the outliers with LOF"
   ]
  },
  {
   "cell_type": "code",
   "execution_count": 1,
   "metadata": {},
   "outputs": [],
   "source": [
    "\n",
    "import json\n",
    "from sklearn.neighbors import LocalOutlierFactor\n",
    "from sklearn.model_selection import train_test_split\n",
    "import numpy as np\n"
   ]
  },
  {
   "cell_type": "code",
   "execution_count": 2,
   "metadata": {},
   "outputs": [],
   "source": [
    "from helpers import load_data"
   ]
  },
  {
   "cell_type": "code",
   "execution_count": 3,
   "metadata": {},
   "outputs": [],
   "source": [
    "def get_datasets():\n",
    "    config = json.load(open(\"dataset_config.json\"))[\"datasets\"]\n",
    "    targets = []\n",
    "    for dataset in config:\n",
    "        targets.append(config[dataset][\"target\"])\n",
    "    return (config.keys()), targets\n",
    "\n",
    "\n",
    "datasets,targets = get_datasets()\n",
    "dfs = {}\n",
    "for dataset in datasets:\n",
    "    dfs[dataset] = load_data(dataset)"
   ]
  },
  {
   "cell_type": "code",
   "execution_count": 11,
   "metadata": {},
   "outputs": [
    {
     "name": "stdout",
     "output_type": "stream",
     "text": [
      "wine\n",
      "0.014935661764705883\n",
      "adult\n",
      "0.06756818702727481\n",
      "compHardware\n",
      "0.22142857142857142\n",
      "breastCancer\n",
      "0.047244094488188976\n",
      "tempForecast\n",
      "0.003146509341199607\n",
      "CCPP\n",
      "0.01185647425897036\n",
      "abalone\n",
      "0.05003573981415296\n",
      "bank\n",
      "0.021722623881681027\n"
     ]
    }
   ],
   "source": [
    "\n",
    "for data,target in zip(datasets,targets):\n",
    "    print(data)\n",
    "    df = dfs[data]\n",
    "    \n",
    "    categorical = df.select_dtypes('category')\n",
    "    # X = df.drop([target], axis=1)\n",
    "    X = df.drop(categorical,axis=1)\n",
    "    if data == 'compHardware':\n",
    "        X = X.drop(['vendor name'], axis=1)\n",
    "    y = df[target]\n",
    "    X_train, X_test, y_train, y_test = train_test_split(X, y, test_size=0.33, random_state=1)\n",
    "    # print(X_train.head())\n",
    "    lof = LocalOutlierFactor()\n",
    "    # print(lof.decision_function)\n",
    "    yhat = lof.fit_predict(X_train)\n",
    "    out = len(np.where(yhat==-1)[0])\n",
    "    rest = len(yhat)\n",
    "    score = out/rest\n",
    "    print(score)\n"
   ]
  },
  {
   "cell_type": "code",
   "execution_count": null,
   "metadata": {},
   "outputs": [],
   "source": []
  }
 ],
 "metadata": {
  "interpreter": {
   "hash": "2dd8ccf6958a08fc7674deee7c71f19888ab4f39532ccc11b7e008702b8125f2"
  },
  "kernelspec": {
   "display_name": "Python 3 (ipykernel)",
   "language": "python",
   "name": "python3"
  },
  "language_info": {
   "codemirror_mode": {
    "name": "ipython",
    "version": 3
   },
   "file_extension": ".py",
   "mimetype": "text/x-python",
   "name": "python",
   "nbconvert_exporter": "python",
   "pygments_lexer": "ipython3",
   "version": "3.8.12"
  }
 },
 "nbformat": 4,
 "nbformat_minor": 4
}
